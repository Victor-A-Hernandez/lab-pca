{
 "cells": [
  {
   "cell_type": "markdown",
   "metadata": {},
   "source": [
    "# Before your start:\n",
    "- Read the README.md file\n",
    "- Comment as much as you can and use the resources (README.md file)\n",
    "- Happy learning!"
   ]
  },
  {
   "cell_type": "code",
   "execution_count": 1,
   "metadata": {},
   "outputs": [],
   "source": [
    "# Run this code:\n",
    "\n",
    "%matplotlib inline\n",
    "\n",
    "import matplotlib.pyplot as plt"
   ]
  },
  {
   "cell_type": "code",
   "execution_count": 2,
   "metadata": {},
   "outputs": [],
   "source": [
    "# Import numpy and pandas:\n",
    "import numpy as np\n",
    "import pandas as pd\n"
   ]
  },
  {
   "cell_type": "markdown",
   "metadata": {},
   "source": [
    "# Challenge 1 - Reading and Standardizing the Data\n",
    "\n",
    "In this challenge we will work with image data and reduce the dimensions of the data to create a 2 dimensional plot. While we have not worked much with image data before, it can be represented as a numpy array where each pixel is assigned a numeric value. In this lesson, we will look at a dataset of cats and a dataset of dogs and see whether reducing them to two dimensions allows us to see if the data is separable. We will start by loading and processing the data. Run the cell below to load the two csv files and convert them into numpy arrays."
   ]
  },
  {
   "cell_type": "code",
   "execution_count": 3,
   "metadata": {},
   "outputs": [],
   "source": [
    "# Run this code\n",
    "\n",
    "cats = np.array(pd.read_csv(\"https://raw.githubusercontent.com/bioramble/pca/master/cat.csv\", header=None))\n",
    "dogs = np.array(pd.read_csv(\"https://raw.githubusercontent.com/bioramble/pca/master/dog.csv\", header=None))"
   ]
  },
  {
   "cell_type": "markdown",
   "metadata": {},
   "source": [
    "Next, we'll examine the shape of both the cats and the dogs arrays. Print out both shapes below."
   ]
  },
  {
   "cell_type": "code",
   "execution_count": 4,
   "metadata": {},
   "outputs": [
    {
     "data": {
      "text/plain": [
       "(4096, 80)"
      ]
     },
     "execution_count": 4,
     "metadata": {},
     "output_type": "execute_result"
    }
   ],
   "source": [
    "# Your code here:\n",
    "cats.shape\n"
   ]
  },
  {
   "cell_type": "code",
   "execution_count": 5,
   "metadata": {},
   "outputs": [
    {
     "data": {
      "text/plain": [
       "(4096, 80)"
      ]
     },
     "execution_count": 5,
     "metadata": {},
     "output_type": "execute_result"
    }
   ],
   "source": [
    "dogs.shape"
   ]
  },
  {
   "cell_type": "markdown",
   "metadata": {},
   "source": [
    "What this means is that both arrays contain 80 images each (the number of columns). Each image is comprised of 64x64 pixels (so a total of 4096 pixels per image). The images have been flattened such that all 4096 are in a single row.\n",
    "\n",
    "Print out column 0 of the cats array to see what the pixels values look like."
   ]
  },
  {
   "cell_type": "code",
   "execution_count": 6,
   "metadata": {},
   "outputs": [
    {
     "data": {
      "text/plain": [
       "array([ 64,  23, 250, 137,  55, 173,  18, 134,  19,  47, 109, 164,  41,\n",
       "        78, 108, 108, 247, 105, 158,  54, 103,   4,  23, 102, 239,  72,\n",
       "        42,  21, 168, 109, 112, 177,  22, 233,  15, 236, 250, 137,  32,\n",
       "         5, 178, 109,  24, 107,  53, 241, 226, 143,   5, 136,  98, 100,\n",
       "        89,  66, 228,  92, 255,  88, 230,  56, 160,  69,   6,  24, 195,\n",
       "       183, 239,  35, 154, 154, 122,  18,  87, 106, 174,  69,  28,  60,\n",
       "       223, 101])"
      ]
     },
     "execution_count": 6,
     "metadata": {},
     "output_type": "execute_result"
    }
   ],
   "source": [
    "# Your code here:\n",
    "cats[0]\n"
   ]
  },
  {
   "cell_type": "markdown",
   "metadata": {},
   "source": [
    "Using `matplotlib` we can plot a single cat or a single dog. We do this by reshaping the vector back to a 64x64 image and then using the `imshow` function.\n",
    "\n",
    "Run the code below to look at the first dog and the first cat."
   ]
  },
  {
   "cell_type": "code",
   "execution_count": 7,
   "metadata": {},
   "outputs": [
    {
     "data": {
      "text/plain": [
       "<matplotlib.image.AxesImage at 0x123f699a0>"
      ]
     },
     "execution_count": 7,
     "metadata": {},
     "output_type": "execute_result"
    },
    {
     "data": {
      "image/png": "[encoded data removed]",
      "text/plain": [
       "<Figure size 432x288 with 1 Axes>"
      ]
     },
     "metadata": {
      "needs_background": "light"
     },
     "output_type": "display_data"
    }
   ],
   "source": [
    "# Run this code:\n",
    "\n",
    "fig, ax = plt.subplots()\n",
    "ax.imshow(cats[:,0].reshape(64, 64).T, cmap=plt.cm.bone, interpolation='nearest') "
   ]
  },
  {
   "cell_type": "code",
   "execution_count": 8,
   "metadata": {},
   "outputs": [
    {
     "data": {
      "text/plain": [
       "<matplotlib.image.AxesImage at 0x1225a85b0>"
      ]
     },
     "execution_count": 8,
     "metadata": {},
     "output_type": "execute_result"
    },
    {
     "data": {
      "image/png": "[encoded data removed]",
      "text/plain": [
       "<Figure size 432x288 with 1 Axes>"
      ]
     },
     "metadata": {
      "needs_background": "light"
     },
     "output_type": "display_data"
    }
   ],
   "source": [
    "# Run this code:\n",
    "\n",
    "fig, ax = plt.subplots()\n",
    "ax.imshow(dogs[:,0].reshape(64, 64).T, cmap=plt.cm.bone, interpolation='nearest') "
   ]
  },
  {
   "cell_type": "markdown",
   "metadata": {},
   "source": [
    "Next, we would like to create a standardization function. This function will find the mean and standard deviation of each image. We subtract the mean from each pixel and divide each pixel by the standard deviation. Write the function below.\n",
    "\n",
    "Hint: To find the mean and standard deviation of each image, use `numpy`'s version of mean and stadnard deviation and use `axis=0`."
   ]
  },
  {
   "cell_type": "code",
   "execution_count": 9,
   "metadata": {},
   "outputs": [],
   "source": [
    "def standardize(x):\n",
    "    #This function takes as input a numpy array and returns a stadardized numpy array of the same dimensions.\n",
    "    #Sample input: np.array([[1,2,3],[4,5,6]])\n",
    "    #Sample output: np.array([[-1,-1,-1],[1,1,1]])\n",
    "    \n",
    "    # Your code here:\n",
    "    \n",
    "    b=x-np.mean(x, axis =0)\n",
    "    a=b/np.std(x, axis=0)\n",
    "    return a\n",
    "\n"
   ]
  },
  {
   "cell_type": "markdown",
   "metadata": {},
   "source": [
    "Now, use the `np.concatenate` function to combine the cats and dogs arrays. Use `axis=1` to combine the two correctly. Make sure to put dogs first."
   ]
  },
  {
   "cell_type": "code",
   "execution_count": 10,
   "metadata": {},
   "outputs": [],
   "source": [
    "# Your code here:\n",
    "\n",
    "d_c=np.concatenate((dogs, cats), axis=1)"
   ]
  },
  {
   "cell_type": "markdown",
   "metadata": {},
   "source": [
    "Standardize the concatenated array below."
   ]
  },
  {
   "cell_type": "code",
   "execution_count": 11,
   "metadata": {},
   "outputs": [],
   "source": [
    "# Your code here:\n",
    "\n",
    "dogcat=standardize (d_c)"
   ]
  },
  {
   "cell_type": "markdown",
   "metadata": {},
   "source": [
    "# Challenge 2 - Using PCA\n",
    "\n",
    "Now that we have created a standardized matrix of cats and dogs, we'll find the two most important components in the data.\n",
    "\n",
    "Load the `PCA` function from `statsmodels` (read about this function [here](https://www.statsmodels.org/dev/generated/statsmodels.multivariate.pca.PCA.html)) and apply the function to our standarized data. Create a PCA model with two components."
   ]
  },
  {
   "cell_type": "code",
   "execution_count": 12,
   "metadata": {},
   "outputs": [],
   "source": [
    "# Your code here:\n",
    "\n",
    "from sklearn.decomposition import PCA"
   ]
  },
  {
   "cell_type": "code",
   "execution_count": 13,
   "metadata": {},
   "outputs": [],
   "source": [
    "pca= PCA(n_components =2).fit(dogcat)\n"
   ]
  },
  {
   "cell_type": "code",
   "execution_count": null,
   "metadata": {},
   "outputs": [],
   "source": []
  },
  {
   "cell_type": "markdown",
   "metadata": {},
   "source": [
    "Use `numpy` to find to transpose the standardized pet array. This will help us compute the projection."
   ]
  },
  {
   "cell_type": "code",
   "execution_count": 14,
   "metadata": {},
   "outputs": [],
   "source": [
    "# Your code here:\n",
    "dogcat1= np.transpose(pca)\n"
   ]
  },
  {
   "cell_type": "markdown",
   "metadata": {},
   "source": [
    "Find the dot product of the transposed standardized pet matrix and the `factors` of the `PCA` model found above. This will be the projection onto 2 dimensions. This means that each cat and dog image will now only have two columns instead of 4096."
   ]
  },
  {
   "cell_type": "code",
   "execution_count": 16,
   "metadata": {},
   "outputs": [
    {
     "data": {
      "text/plain": [
       "array([[ 0.12575156,  0.09529207, -0.03837659,  0.015048  ,  0.09729783,\n",
       "        -0.02601786,  0.06558217,  0.04236239,  0.03673442,  0.11686677,\n",
       "         0.00103753,  0.06446757,  0.02519226, -0.00905754,  0.05678988,\n",
       "         0.0520479 ,  0.04743989,  0.11557141,  0.05448975,  0.04609349,\n",
       "        -0.01073212,  0.00478206,  0.02907307,  0.03513379,  0.08033945,\n",
       "         0.00067306, -0.01098459,  0.00264217,  0.04028455,  0.02873764,\n",
       "         0.01418316,  0.02188058,  0.08918055,  0.03908603, -0.02150446,\n",
       "         0.04695433, -0.04204772,  0.00416615, -0.01947104,  0.08485152,\n",
       "         0.05047706,  0.03397747, -0.02982144,  0.0449588 , -0.0238633 ,\n",
       "         0.0598967 ,  0.07866399,  0.0206001 ,  0.04514692, -0.04889191,\n",
       "         0.08726874,  0.1085361 ,  0.01810565, -0.06454949, -0.06389846,\n",
       "        -0.04145835,  0.08629651,  0.04393602, -0.04929054, -0.00613248,\n",
       "         0.02292021,  0.09182584,  0.09179845, -0.06791988, -0.03165491,\n",
       "         0.08088572,  0.01502353, -0.09540016, -0.00681263,  0.06708894,\n",
       "        -0.03140465, -0.0029825 ,  0.07821106, -0.06239296,  0.0304094 ,\n",
       "         0.11803061,  0.09837737, -0.02451748, -0.0099229 ,  0.11549306,\n",
       "        -0.04634641, -0.14710859,  0.14259171,  0.12139822, -0.08934524,\n",
       "        -0.06177991, -0.12257632, -0.01543459, -0.12541308, -0.06229352,\n",
       "         0.00019257,  0.01705428, -0.15334755, -0.08976713,  0.08555007,\n",
       "        -0.11593373,  0.085716  , -0.09841683,  0.12680272, -0.14979572,\n",
       "         0.03250633, -0.10519087, -0.10514839, -0.10074832,  0.15276305,\n",
       "        -0.02083582, -0.10346791, -0.09348967,  0.0633422 , -0.06184369,\n",
       "        -0.00725396,  0.03663586, -0.05463076,  0.15671167, -0.15131348,\n",
       "        -0.02248674,  0.14945243, -0.12727576, -0.06203   , -0.04600154,\n",
       "        -0.02167932, -0.08034818, -0.16122218, -0.09476989, -0.15345704,\n",
       "         0.09905488,  0.10087525,  0.08496267, -0.15016393,  0.00354896,\n",
       "        -0.07390804, -0.04711896, -0.13663128, -0.10664397,  0.05498969,\n",
       "        -0.11515352, -0.10755683, -0.05776147,  0.09759251, -0.06432964,\n",
       "        -0.0051424 , -0.06331269, -0.11694002, -0.12452497,  0.07430119,\n",
       "        -0.02082962,  0.15105338, -0.01063102,  0.06586178,  0.09670921,\n",
       "         0.04652498, -0.1036923 , -0.03253223,  0.00593743,  0.0328262 ,\n",
       "        -0.0796056 , -0.09752336, -0.13526752,  0.05054588, -0.02391742],\n",
       "       [-0.05441139,  0.07122508,  0.06662496,  0.1218326 , -0.01522997,\n",
       "         0.16705846,  0.04892179,  0.14440584,  0.14311711, -0.0081597 ,\n",
       "         0.13141427,  0.06527749,  0.06185204,  0.06647972,  0.11758398,\n",
       "         0.12420497,  0.03072916,  0.07853252,  0.10623925,  0.1655199 ,\n",
       "         0.13235336,  0.14176738,  0.05644442,  0.15115845,  0.11348203,\n",
       "         0.16007118,  0.10650489,  0.0846715 ,  0.17510727,  0.09138883,\n",
       "         0.11333167,  0.09983047,  0.10814851,  0.13120978,  0.14124069,\n",
       "         0.05493734,  0.14017161,  0.11682868,  0.15915575,  0.07038947,\n",
       "         0.14835446, -0.06168312,  0.12147676,  0.10027126,  0.05964123,\n",
       "        -0.08284972, -0.03104439,  0.02959339, -0.04362269,  0.12736936,\n",
       "        -0.04095054, -0.09891581, -0.05597895,  0.14873926,  0.01837822,\n",
       "         0.01386002, -0.02302654, -0.04505534,  0.0993864 ,  0.11214039,\n",
       "         0.14461208, -0.07939136, -0.02038203, -0.01088193,  0.03296645,\n",
       "         0.00043029, -0.08122444,  0.0422299 ,  0.01206747,  0.1069982 ,\n",
       "         0.04347831,  0.11802854,  0.0936105 ,  0.08912042, -0.09254396,\n",
       "        -0.02171904,  0.03204965,  0.12802513,  0.12269272, -0.00989955,\n",
       "        -0.05256573, -0.00377219, -0.01387386,  0.00493875, -0.06471482,\n",
       "        -0.12172597,  0.01096782, -0.06279903, -0.02816705, -0.0636719 ,\n",
       "        -0.01720608, -0.01631551, -0.03660974, -0.04401288, -0.05086387,\n",
       "        -0.06079705, -0.04031912, -0.03873153,  0.00292329, -0.01826046,\n",
       "        -0.04518068,  0.00689909,  0.04820931,  0.11871919, -0.02173135,\n",
       "         0.08005827, -0.06657794,  0.06725053, -0.00924909, -0.03849876,\n",
       "        -0.06162812, -0.05707995, -0.10940658, -0.04134531,  0.0077278 ,\n",
       "         0.0442122 ,  0.00709422, -0.02920409,  0.07521804, -0.05297746,\n",
       "        -0.07198315, -0.06708822,  0.05363931,  0.07616609,  0.06956102,\n",
       "        -0.05506319,  0.01667536, -0.03662663,  0.01810616, -0.03126679,\n",
       "        -0.05587638,  0.0436723 , -0.05762827, -0.04890708, -0.07571169,\n",
       "        -0.06627611, -0.08157768,  0.03418601, -0.10241552,  0.12632183,\n",
       "         0.0044502 , -0.052475  , -0.03869596,  0.04053709, -0.00881844,\n",
       "        -0.06828305, -0.02841426,  0.00150551, -0.02420113,  0.01697473,\n",
       "        -0.01332605,  0.04434664, -0.05340143,  0.01417218,  0.00244014,\n",
       "         0.07056026,  0.0875718 ,  0.04749343,  0.01416598, -0.04784769]])"
      ]
     },
     "execution_count": 16,
     "metadata": {},
     "output_type": "execute_result"
    }
   ],
   "source": [
    "# Your code here:\n",
    "pca.components_"
   ]
  },
  {
   "cell_type": "markdown",
   "metadata": {},
   "source": [
    "# Challenge 3 - Plotting the Data\n",
    "\n",
    "Now that we have reduced our cats and dogs arrays, we can easily plot the data in a way that the human eye can understand. We can look at this plot to see whether there are differences between the cat and dog images. \n",
    "\n",
    "In the cell below, turn the two dimensional projection into a pandas dataframe and name the columns `pc1`, and `pc2` respectively."
   ]
  },
  {
   "cell_type": "code",
   "execution_count": 24,
   "metadata": {},
   "outputs": [
    {
     "data": {
      "text/html": [
       "<div>\n",
       "<style scoped>\n",
       "    .dataframe tbody tr th:only-of-type {\n",
       "        vertical-align: middle;\n",
       "    }\n",
       "\n",
       "    .dataframe tbody tr th {\n",
       "        vertical-align: top;\n",
       "    }\n",
       "\n",
       "    .dataframe thead th {\n",
       "        text-align: right;\n",
       "    }\n",
       "</style>\n",
       "<table border=\"1\" class=\"dataframe\">\n",
       "  <thead>\n",
       "    <tr style=\"text-align: right;\">\n",
       "      <th></th>\n",
       "      <th>0</th>\n",
       "      <th>1</th>\n",
       "      <th>2</th>\n",
       "      <th>3</th>\n",
       "      <th>4</th>\n",
       "      <th>5</th>\n",
       "      <th>6</th>\n",
       "      <th>7</th>\n",
       "      <th>8</th>\n",
       "      <th>9</th>\n",
       "      <th>...</th>\n",
       "      <th>150</th>\n",
       "      <th>151</th>\n",
       "      <th>152</th>\n",
       "      <th>153</th>\n",
       "      <th>154</th>\n",
       "      <th>155</th>\n",
       "      <th>156</th>\n",
       "      <th>157</th>\n",
       "      <th>158</th>\n",
       "      <th>159</th>\n",
       "    </tr>\n",
       "  </thead>\n",
       "  <tbody>\n",
       "    <tr>\n",
       "      <th>pc1</th>\n",
       "      <td>0.125752</td>\n",
       "      <td>0.095292</td>\n",
       "      <td>-0.038377</td>\n",
       "      <td>0.015048</td>\n",
       "      <td>0.097298</td>\n",
       "      <td>-0.026018</td>\n",
       "      <td>0.065582</td>\n",
       "      <td>0.042362</td>\n",
       "      <td>0.036734</td>\n",
       "      <td>0.116867</td>\n",
       "      <td>...</td>\n",
       "      <td>0.046525</td>\n",
       "      <td>-0.103692</td>\n",
       "      <td>-0.032532</td>\n",
       "      <td>0.005937</td>\n",
       "      <td>0.032826</td>\n",
       "      <td>-0.079606</td>\n",
       "      <td>-0.097523</td>\n",
       "      <td>-0.135268</td>\n",
       "      <td>0.050546</td>\n",
       "      <td>-0.023917</td>\n",
       "    </tr>\n",
       "    <tr>\n",
       "      <th>pc2</th>\n",
       "      <td>-0.054411</td>\n",
       "      <td>0.071225</td>\n",
       "      <td>0.066625</td>\n",
       "      <td>0.121833</td>\n",
       "      <td>-0.015230</td>\n",
       "      <td>0.167058</td>\n",
       "      <td>0.048922</td>\n",
       "      <td>0.144406</td>\n",
       "      <td>0.143117</td>\n",
       "      <td>-0.008160</td>\n",
       "      <td>...</td>\n",
       "      <td>-0.013326</td>\n",
       "      <td>0.044347</td>\n",
       "      <td>-0.053401</td>\n",
       "      <td>0.014172</td>\n",
       "      <td>0.002440</td>\n",
       "      <td>0.070560</td>\n",
       "      <td>0.087572</td>\n",
       "      <td>0.047493</td>\n",
       "      <td>0.014166</td>\n",
       "      <td>-0.047848</td>\n",
       "    </tr>\n",
       "  </tbody>\n",
       "</table>\n",
       "<p>2 rows × 160 columns</p>\n",
       "</div>"
      ],
      "text/plain": [
       "          0         1         2         3         4         5         6    \\\n",
       "pc1  0.125752  0.095292 -0.038377  0.015048  0.097298 -0.026018  0.065582   \n",
       "pc2 -0.054411  0.071225  0.066625  0.121833 -0.015230  0.167058  0.048922   \n",
       "\n",
       "          7         8         9    ...       150       151       152  \\\n",
       "pc1  0.042362  0.036734  0.116867  ...  0.046525 -0.103692 -0.032532   \n",
       "pc2  0.144406  0.143117 -0.008160  ... -0.013326  0.044347 -0.053401   \n",
       "\n",
       "          153       154       155       156       157       158       159  \n",
       "pc1  0.005937  0.032826 -0.079606 -0.097523 -0.135268  0.050546 -0.023917  \n",
       "pc2  0.014172  0.002440  0.070560  0.087572  0.047493  0.014166 -0.047848  \n",
       "\n",
       "[2 rows x 160 columns]"
      ]
     },
     "execution_count": 24,
     "metadata": {},
     "output_type": "execute_result"
    }
   ],
   "source": [
    "# Your code here:\n",
    "\n",
    "df_pca_comp = pd.DataFrame(data=pca.components_,\n",
    "                           index = ['pc1', 'pc2']\n",
    "                        \n",
    "                           )\n",
    "\n",
    "df_pca_comp"
   ]
  },
  {
   "cell_type": "code",
   "execution_count": 27,
   "metadata": {},
   "outputs": [],
   "source": [
    "df_pca_comp=df_pca_comp.transpose()"
   ]
  },
  {
   "cell_type": "markdown",
   "metadata": {},
   "source": [
    "Create a labels list. This list will be of size 160. The first 80 elements in the list will be the word `blue`, and the last 80 elements will be `red`. This will ensure that all dog observations will be colored in blue and all cats will be colored in red. Name this list `colors`."
   ]
  },
  {
   "cell_type": "code",
   "execution_count": 34,
   "metadata": {},
   "outputs": [
    {
     "data": {
      "text/plain": [
       "['blue',\n",
       " 'blue',\n",
       " 'blue',\n",
       " 'blue',\n",
       " 'blue',\n",
       " 'blue',\n",
       " 'blue',\n",
       " 'blue',\n",
       " 'blue',\n",
       " 'blue',\n",
       " 'blue',\n",
       " 'blue',\n",
       " 'blue',\n",
       " 'blue',\n",
       " 'blue',\n",
       " 'blue',\n",
       " 'blue',\n",
       " 'blue',\n",
       " 'blue',\n",
       " 'blue',\n",
       " 'blue',\n",
       " 'blue',\n",
       " 'blue',\n",
       " 'blue',\n",
       " 'blue',\n",
       " 'blue',\n",
       " 'blue',\n",
       " 'blue',\n",
       " 'blue',\n",
       " 'blue',\n",
       " 'blue',\n",
       " 'blue',\n",
       " 'blue',\n",
       " 'blue',\n",
       " 'blue',\n",
       " 'blue',\n",
       " 'blue',\n",
       " 'blue',\n",
       " 'blue',\n",
       " 'blue',\n",
       " 'blue',\n",
       " 'blue',\n",
       " 'blue',\n",
       " 'blue',\n",
       " 'blue',\n",
       " 'blue',\n",
       " 'blue',\n",
       " 'blue',\n",
       " 'blue',\n",
       " 'blue',\n",
       " 'blue',\n",
       " 'blue',\n",
       " 'blue',\n",
       " 'blue',\n",
       " 'blue',\n",
       " 'blue',\n",
       " 'blue',\n",
       " 'blue',\n",
       " 'blue',\n",
       " 'blue',\n",
       " 'blue',\n",
       " 'blue',\n",
       " 'blue',\n",
       " 'blue',\n",
       " 'blue',\n",
       " 'blue',\n",
       " 'blue',\n",
       " 'blue',\n",
       " 'blue',\n",
       " 'blue',\n",
       " 'blue',\n",
       " 'blue',\n",
       " 'blue',\n",
       " 'blue',\n",
       " 'blue',\n",
       " 'blue',\n",
       " 'blue',\n",
       " 'blue',\n",
       " 'blue',\n",
       " 'blue',\n",
       " 'red',\n",
       " 'red',\n",
       " 'red',\n",
       " 'red',\n",
       " 'red',\n",
       " 'red',\n",
       " 'red',\n",
       " 'red',\n",
       " 'red',\n",
       " 'red',\n",
       " 'red',\n",
       " 'red',\n",
       " 'red',\n",
       " 'red',\n",
       " 'red',\n",
       " 'red',\n",
       " 'red',\n",
       " 'red',\n",
       " 'red',\n",
       " 'red',\n",
       " 'red',\n",
       " 'red',\n",
       " 'red',\n",
       " 'red',\n",
       " 'red',\n",
       " 'red',\n",
       " 'red',\n",
       " 'red',\n",
       " 'red',\n",
       " 'red',\n",
       " 'red',\n",
       " 'red',\n",
       " 'red',\n",
       " 'red',\n",
       " 'red',\n",
       " 'red',\n",
       " 'red',\n",
       " 'red',\n",
       " 'red',\n",
       " 'red',\n",
       " 'red',\n",
       " 'red',\n",
       " 'red',\n",
       " 'red',\n",
       " 'red',\n",
       " 'red',\n",
       " 'red',\n",
       " 'red',\n",
       " 'red',\n",
       " 'red',\n",
       " 'red',\n",
       " 'red',\n",
       " 'red',\n",
       " 'red',\n",
       " 'red',\n",
       " 'red',\n",
       " 'red',\n",
       " 'red',\n",
       " 'red',\n",
       " 'red',\n",
       " 'red',\n",
       " 'red',\n",
       " 'red',\n",
       " 'red',\n",
       " 'red',\n",
       " 'red',\n",
       " 'red',\n",
       " 'red',\n",
       " 'red',\n",
       " 'red',\n",
       " 'red',\n",
       " 'red',\n",
       " 'red',\n",
       " 'red',\n",
       " 'red',\n",
       " 'red',\n",
       " 'red',\n",
       " 'red',\n",
       " 'red',\n",
       " 'red']"
      ]
     },
     "execution_count": 34,
     "metadata": {},
     "output_type": "execute_result"
    }
   ],
   "source": [
    "# Your code here:\n",
    "x = ['blue']\n",
    "y = ['red']\n",
    "colors = x*80 + y*80\n",
    "colors"
   ]
  },
  {
   "cell_type": "markdown",
   "metadata": {},
   "source": [
    "Create a scatter plot of `pc1` and `pc2` below. Use the `colors` list above to color the observations by setting `c=colors`."
   ]
  },
  {
   "cell_type": "code",
   "execution_count": 36,
   "metadata": {},
   "outputs": [
    {
     "data": {
      "text/plain": [
       "<function matplotlib.pyplot.show(close=None, block=None)>"
      ]
     },
     "execution_count": 36,
     "metadata": {},
     "output_type": "execute_result"
    },
    {
     "data": {
      "image/png": "[encoded data removed]",
      "text/plain": [
       "<Figure size 432x288 with 1 Axes>"
      ]
     },
     "metadata": {
      "needs_background": "light"
     },
     "output_type": "display_data"
    }
   ],
   "source": [
    "# Your code here:\n",
    "\n",
    "plt.scatter(df_pca_comp.pc1, df_pca_comp.pc2, c=colors)\n",
    "plt.show"
   ]
  },
  {
   "cell_type": "markdown",
   "metadata": {},
   "source": [
    "Do you see a clear separation between cats and dogs? Write your answer below."
   ]
  },
  {
   "cell_type": "code",
   "execution_count": null,
   "metadata": {},
   "outputs": [],
   "source": [
    "# Your conclusions here:\n",
    "\n",
    "#No, hay puntos que se encuentran mezclados "
   ]
  },
  {
   "cell_type": "code",
   "execution_count": null,
   "metadata": {},
   "outputs": [],
   "source": []
  }
 ],
 "metadata": {
  "kernelspec": {
   "display_name": "Python 3",
   "language": "python",
   "name": "python3"
  },
  "language_info": {
   "codemirror_mode": {
    "name": "ipython",
    "version": 3
   },
   "file_extension": ".py",
   "mimetype": "text/x-python",
   "name": "python",
   "nbconvert_exporter": "python",
   "pygments_lexer": "ipython3",
   "version": "3.9.0"
  }
 },
 "nbformat": 4,
 "nbformat_minor": 2
}
